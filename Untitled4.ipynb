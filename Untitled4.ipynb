{
  "nbformat": 4,
  "nbformat_minor": 0,
  "metadata": {
    "colab": {
      "provenance": [],
      "authorship_tag": "ABX9TyPUZVLWDsmQjgdwQj0h2IS1",
      "include_colab_link": true
    },
    "kernelspec": {
      "name": "python3",
      "display_name": "Python 3"
    },
    "language_info": {
      "name": "python"
    }
  },
  "cells": [
    {
      "cell_type": "markdown",
      "metadata": {
        "id": "view-in-github",
        "colab_type": "text"
      },
      "source": [
        "<a href=\"https://colab.research.google.com/github/HarshilRana-git/Agromart/blob/main/Untitled4.ipynb\" target=\"_parent\"><img src=\"https://colab.research.google.com/assets/colab-badge.svg\" alt=\"Open In Colab\"/></a>"
      ]
    },
    {
      "cell_type": "code",
      "execution_count": 26,
      "metadata": {
        "id": "rv3ZeE4X4MJP"
      },
      "outputs": [],
      "source": [
        "# !sudo apt-get install tesseract-ocr\n",
        "# !sudo apt-get install libtesseract-dev\n",
        "# !pip install pytesseract\n",
        "import pytesseract\n",
        "from PIL import Image, ImageOps, ImageFilter\n",
        "import math\n",
        "from IPython.display import Image as IPImage, display"
      ]
    },
    {
      "cell_type": "code",
      "source": [
        "i = 0\n",
        "def text_extractor(image_path):\n",
        "  global i\n",
        "  img = Image.open(image_path)\n",
        "  gray_img = img.convert('L')\n",
        "  sharpened_img = gray_img.filter(ImageFilter.SHARPEN)\n",
        "  threshold = 100\n",
        "  binary_img = sharpened_img.point(lambda p: p > threshold and 255)\n",
        "\n",
        "  inverted_img = ImageOps.invert(binary_img)\n",
        "  roi = inverted_img.crop((17, 100, 80, 150))\n",
        "  cropped_image_path = \"cropped_image\" + str(i) +\".jpg\"\n",
        "  display(IPImage(filename=cropped_image_path))\n",
        "\n",
        "  i+=1\n",
        "  roi.save(cropped_image_path)\n",
        "\n",
        "  text = pytesseract.image_to_string(cropped_image_path)\n",
        "  return text"
      ],
      "metadata": {
        "id": "MiCmnBkuBBEm"
      },
      "execution_count": 27,
      "outputs": []
    },
    {
      "cell_type": "code",
      "source": [
        "first_frame = \"frame_0.jpg\"\n",
        "heart_start = text_extractor(first_frame)\n",
        "heart_start = [char for char in heart_start if char.isdigit()]\n",
        "heart_start = int(''.join(heart_start))\n",
        "print(\"Extraxted Text from the Frame is: \", heart_start)"
      ],
      "metadata": {
        "colab": {
          "base_uri": "https://localhost:8080/",
          "height": 85
        },
        "id": "nodjQOclBFFN",
        "outputId": "a536d58c-0638-473c-bbda-ef67b549f031"
      },
      "execution_count": 23,
      "outputs": [
        {
          "output_type": "display_data",
          "data": {
            "image/jpeg": "[encoded data removed]",
            "text/plain": [
              "<IPython.core.display.Image object>"
            ]
          },
          "metadata": {}
        },
        {
          "output_type": "stream",
          "name": "stdout",
          "text": [
            "Extraxted Text from the Frame is:  20\n"
          ]
        }
      ]
    },
    {
      "cell_type": "code",
      "source": [
        "last_frame =  \"frame_2300.jpg\"\n",
        "heart_end = text_extractor(last_frame)\n",
        "heart_end = [char for char in heart_end if char.isdigit()]\n",
        "heart_end = int(''.join(heart_end))\n",
        "print(\"Extraxted Text from the Frame is: \", heart_end)"
      ],
      "metadata": {
        "colab": {
          "base_uri": "https://localhost:8080/",
          "height": 85
        },
        "id": "kCJJ4xB2BNnv",
        "outputId": "9ee91846-c525-4c30-afa6-74bf60a388f8"
      },
      "execution_count": 24,
      "outputs": [
        {
          "output_type": "display_data",
          "data": {
            "image/jpeg": "[encoded data removed]",
            "text/plain": [
              "<IPython.core.display.Image object>"
            ]
          },
          "metadata": {}
        },
        {
          "output_type": "stream",
          "name": "stdout",
          "text": [
            "Extraxted Text from the Frame is:  20\n"
          ]
        }
      ]
    },
    {
      "cell_type": "code",
      "source": [
        "print(\"No of zombies escaped: \", abs(heart_start-heart_end))\n"
      ],
      "metadata": {
        "colab": {
          "base_uri": "https://localhost:8080/"
        },
        "id": "zJMfrxtTBQk0",
        "outputId": "1004817b-65ac-4dcf-caa9-9ff33df83ad9"
      },
      "execution_count": 25,
      "outputs": [
        {
          "output_type": "stream",
          "name": "stdout",
          "text": [
            "No of zombies escaped:  0\n"
          ]
        }
      ]
    }
  ]
}